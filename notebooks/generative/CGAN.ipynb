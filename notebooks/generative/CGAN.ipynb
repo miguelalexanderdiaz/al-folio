{
  "nbformat": 4,
  "nbformat_minor": 0,
  "metadata": {
    "kernelspec": {
      "display_name": "Python 3",
      "language": "python",
      "name": "python3"
    },
    "language_info": {
      "codemirror_mode": {
        "name": "ipython",
        "version": 3
      },
      "file_extension": ".py",
      "mimetype": "text/x-python",
      "name": "python",
      "nbconvert_exporter": "python",
      "pygments_lexer": "ipython3",
      "version": "3.7.7"
    },
    "toc": {
      "base_numbering": 1,
      "nav_menu": {},
      "number_sections": true,
      "sideBar": true,
      "skip_h1_title": false,
      "title_cell": "Table of Contents",
      "title_sidebar": "Contents",
      "toc_cell": false,
      "toc_position": {},
      "toc_section_display": true,
      "toc_window_display": false
    },
    "colab": {
      "name": "Conditional DCGAN_TF2.ipynb",
      "provenance": [],
      "collapsed_sections": [
        "Haf1g7Axm6CV"
      ]
    },
    "accelerator": "GPU"
  },
  "cells": [
    {
      "cell_type": "code",
      "metadata": {
        "id": "jHD1p6lLwPjI",
        "colab": {
          "base_uri": "https://localhost:8080/"
        },
        "outputId": "f31a65c9-7734-43df-e07e-7ae86a661306"
      },
      "source": [
        "!pip install -qU tensorboard_plugin_profile"
      ],
      "execution_count": null,
      "outputs": [
        {
          "output_type": "stream",
          "text": [
            "\u001b[?25l\r\u001b[K     |▎                               | 10kB 19.8MB/s eta 0:00:01\r\u001b[K     |▋                               | 20kB 23.1MB/s eta 0:00:01\r\u001b[K     |▉                               | 30kB 25.0MB/s eta 0:00:01\r\u001b[K     |█▏                              | 40kB 28.0MB/s eta 0:00:01\r\u001b[K     |█▍                              | 51kB 29.9MB/s eta 0:00:01\r\u001b[K     |█▊                              | 61kB 31.4MB/s eta 0:00:01\r\u001b[K     |██                              | 71kB 31.4MB/s eta 0:00:01\r\u001b[K     |██▎                             | 81kB 30.6MB/s eta 0:00:01\r\u001b[K     |██▌                             | 92kB 30.3MB/s eta 0:00:01\r\u001b[K     |██▉                             | 102kB 29.4MB/s eta 0:00:01\r\u001b[K     |███▏                            | 112kB 29.4MB/s eta 0:00:01\r\u001b[K     |███▍                            | 122kB 29.4MB/s eta 0:00:01\r\u001b[K     |███▊                            | 133kB 29.4MB/s eta 0:00:01\r\u001b[K     |████                            | 143kB 29.4MB/s eta 0:00:01\r\u001b[K     |████▎                           | 153kB 29.4MB/s eta 0:00:01\r\u001b[K     |████▌                           | 163kB 29.4MB/s eta 0:00:01\r\u001b[K     |████▉                           | 174kB 29.4MB/s eta 0:00:01\r\u001b[K     |█████                           | 184kB 29.4MB/s eta 0:00:01\r\u001b[K     |█████▍                          | 194kB 29.4MB/s eta 0:00:01\r\u001b[K     |█████▊                          | 204kB 29.4MB/s eta 0:00:01\r\u001b[K     |██████                          | 215kB 29.4MB/s eta 0:00:01\r\u001b[K     |██████▎                         | 225kB 29.4MB/s eta 0:00:01\r\u001b[K     |██████▌                         | 235kB 29.4MB/s eta 0:00:01\r\u001b[K     |██████▉                         | 245kB 29.4MB/s eta 0:00:01\r\u001b[K     |███████                         | 256kB 29.4MB/s eta 0:00:01\r\u001b[K     |███████▍                        | 266kB 29.4MB/s eta 0:00:01\r\u001b[K     |███████▋                        | 276kB 29.4MB/s eta 0:00:01\r\u001b[K     |████████                        | 286kB 29.4MB/s eta 0:00:01\r\u001b[K     |████████▎                       | 296kB 29.4MB/s eta 0:00:01\r\u001b[K     |████████▌                       | 307kB 29.4MB/s eta 0:00:01\r\u001b[K     |████████▉                       | 317kB 29.4MB/s eta 0:00:01\r\u001b[K     |█████████                       | 327kB 29.4MB/s eta 0:00:01\r\u001b[K     |█████████▍                      | 337kB 29.4MB/s eta 0:00:01\r\u001b[K     |█████████▋                      | 348kB 29.4MB/s eta 0:00:01\r\u001b[K     |██████████                      | 358kB 29.4MB/s eta 0:00:01\r\u001b[K     |██████████▏                     | 368kB 29.4MB/s eta 0:00:01\r\u001b[K     |██████████▌                     | 378kB 29.4MB/s eta 0:00:01\r\u001b[K     |██████████▊                     | 389kB 29.4MB/s eta 0:00:01\r\u001b[K     |███████████                     | 399kB 29.4MB/s eta 0:00:01\r\u001b[K     |███████████▍                    | 409kB 29.4MB/s eta 0:00:01\r\u001b[K     |███████████▋                    | 419kB 29.4MB/s eta 0:00:01\r\u001b[K     |████████████                    | 430kB 29.4MB/s eta 0:00:01\r\u001b[K     |████████████▏                   | 440kB 29.4MB/s eta 0:00:01\r\u001b[K     |████████████▌                   | 450kB 29.4MB/s eta 0:00:01\r\u001b[K     |████████████▊                   | 460kB 29.4MB/s eta 0:00:01\r\u001b[K     |█████████████                   | 471kB 29.4MB/s eta 0:00:01\r\u001b[K     |█████████████▎                  | 481kB 29.4MB/s eta 0:00:01\r\u001b[K     |█████████████▋                  | 491kB 29.4MB/s eta 0:00:01\r\u001b[K     |██████████████                  | 501kB 29.4MB/s eta 0:00:01\r\u001b[K     |██████████████▏                 | 512kB 29.4MB/s eta 0:00:01\r\u001b[K     |██████████████▌                 | 522kB 29.4MB/s eta 0:00:01\r\u001b[K     |██████████████▊                 | 532kB 29.4MB/s eta 0:00:01\r\u001b[K     |███████████████                 | 542kB 29.4MB/s eta 0:00:01\r\u001b[K     |███████████████▎                | 552kB 29.4MB/s eta 0:00:01\r\u001b[K     |███████████████▋                | 563kB 29.4MB/s eta 0:00:01\r\u001b[K     |███████████████▉                | 573kB 29.4MB/s eta 0:00:01\r\u001b[K     |████████████████▏               | 583kB 29.4MB/s eta 0:00:01\r\u001b[K     |████████████████▌               | 593kB 29.4MB/s eta 0:00:01\r\u001b[K     |████████████████▊               | 604kB 29.4MB/s eta 0:00:01\r\u001b[K     |█████████████████               | 614kB 29.4MB/s eta 0:00:01\r\u001b[K     |█████████████████▎              | 624kB 29.4MB/s eta 0:00:01\r\u001b[K     |█████████████████▋              | 634kB 29.4MB/s eta 0:00:01\r\u001b[K     |█████████████████▉              | 645kB 29.4MB/s eta 0:00:01\r\u001b[K     |██████████████████▏             | 655kB 29.4MB/s eta 0:00:01\r\u001b[K     |██████████████████▍             | 665kB 29.4MB/s eta 0:00:01\r\u001b[K     |██████████████████▊             | 675kB 29.4MB/s eta 0:00:01\r\u001b[K     |███████████████████             | 686kB 29.4MB/s eta 0:00:01\r\u001b[K     |███████████████████▎            | 696kB 29.4MB/s eta 0:00:01\r\u001b[K     |███████████████████▋            | 706kB 29.4MB/s eta 0:00:01\r\u001b[K     |███████████████████▉            | 716kB 29.4MB/s eta 0:00:01\r\u001b[K     |████████████████████▏           | 727kB 29.4MB/s eta 0:00:01\r\u001b[K     |████████████████████▍           | 737kB 29.4MB/s eta 0:00:01\r\u001b[K     |████████████████████▊           | 747kB 29.4MB/s eta 0:00:01\r\u001b[K     |█████████████████████           | 757kB 29.4MB/s eta 0:00:01\r\u001b[K     |█████████████████████▎          | 768kB 29.4MB/s eta 0:00:01\r\u001b[K     |█████████████████████▌          | 778kB 29.4MB/s eta 0:00:01\r\u001b[K     |█████████████████████▉          | 788kB 29.4MB/s eta 0:00:01\r\u001b[K     |██████████████████████▏         | 798kB 29.4MB/s eta 0:00:01\r\u001b[K     |██████████████████████▍         | 808kB 29.4MB/s eta 0:00:01\r\u001b[K     |██████████████████████▊         | 819kB 29.4MB/s eta 0:00:01\r\u001b[K     |███████████████████████         | 829kB 29.4MB/s eta 0:00:01\r\u001b[K     |███████████████████████▎        | 839kB 29.4MB/s eta 0:00:01\r\u001b[K     |███████████████████████▌        | 849kB 29.4MB/s eta 0:00:01\r\u001b[K     |███████████████████████▉        | 860kB 29.4MB/s eta 0:00:01\r\u001b[K     |████████████████████████        | 870kB 29.4MB/s eta 0:00:01\r\u001b[K     |████████████████████████▍       | 880kB 29.4MB/s eta 0:00:01\r\u001b[K     |████████████████████████▊       | 890kB 29.4MB/s eta 0:00:01\r\u001b[K     |█████████████████████████       | 901kB 29.4MB/s eta 0:00:01\r\u001b[K     |█████████████████████████▎      | 911kB 29.4MB/s eta 0:00:01\r\u001b[K     |█████████████████████████▌      | 921kB 29.4MB/s eta 0:00:01\r\u001b[K     |█████████████████████████▉      | 931kB 29.4MB/s eta 0:00:01\r\u001b[K     |██████████████████████████      | 942kB 29.4MB/s eta 0:00:01\r\u001b[K     |██████████████████████████▍     | 952kB 29.4MB/s eta 0:00:01\r\u001b[K     |██████████████████████████▋     | 962kB 29.4MB/s eta 0:00:01\r\u001b[K     |███████████████████████████     | 972kB 29.4MB/s eta 0:00:01\r\u001b[K     |███████████████████████████▎    | 983kB 29.4MB/s eta 0:00:01\r\u001b[K     |███████████████████████████▌    | 993kB 29.4MB/s eta 0:00:01\r\u001b[K     |███████████████████████████▉    | 1.0MB 29.4MB/s eta 0:00:01\r\u001b[K     |████████████████████████████    | 1.0MB 29.4MB/s eta 0:00:01\r\u001b[K     |████████████████████████████▍   | 1.0MB 29.4MB/s eta 0:00:01\r\u001b[K     |████████████████████████████▋   | 1.0MB 29.4MB/s eta 0:00:01\r\u001b[K     |█████████████████████████████   | 1.0MB 29.4MB/s eta 0:00:01\r\u001b[K     |█████████████████████████████▏  | 1.1MB 29.4MB/s eta 0:00:01\r\u001b[K     |█████████████████████████████▌  | 1.1MB 29.4MB/s eta 0:00:01\r\u001b[K     |█████████████████████████████▉  | 1.1MB 29.4MB/s eta 0:00:01\r\u001b[K     |██████████████████████████████  | 1.1MB 29.4MB/s eta 0:00:01\r\u001b[K     |██████████████████████████████▍ | 1.1MB 29.4MB/s eta 0:00:01\r\u001b[K     |██████████████████████████████▋ | 1.1MB 29.4MB/s eta 0:00:01\r\u001b[K     |███████████████████████████████ | 1.1MB 29.4MB/s eta 0:00:01\r\u001b[K     |███████████████████████████████▏| 1.1MB 29.4MB/s eta 0:00:01\r\u001b[K     |███████████████████████████████▌| 1.1MB 29.4MB/s eta 0:00:01\r\u001b[K     |███████████████████████████████▊| 1.1MB 29.4MB/s eta 0:00:01\r\u001b[K     |████████████████████████████████| 1.2MB 29.4MB/s \n",
            "\u001b[?25h"
          ],
          "name": "stdout"
        }
      ]
    },
    {
      "cell_type": "code",
      "metadata": {
        "id": "P7Ax2uXDPWf8"
      },
      "source": [
        "from __future__ import division, print_function, absolute_import\n",
        "import matplotlib.pyplot as plt\n",
        "import numpy as np\n",
        "import tensorflow as tf\n",
        "from tensorflow.keras.datasets import mnist\n",
        "from tensorflow.keras import layers\n",
        "from tensorflow.keras import Model"
      ],
      "execution_count": null,
      "outputs": []
    },
    {
      "cell_type": "code",
      "metadata": {
        "id": "qagzuEFRPWgR",
        "colab": {
          "base_uri": "https://localhost:8080/",
          "height": 35
        },
        "outputId": "bea3181c-ddb5-48e5-d819-209a181e3e53"
      },
      "source": [
        "tf.__version__"
      ],
      "execution_count": null,
      "outputs": [
        {
          "output_type": "execute_result",
          "data": {
            "application/vnd.google.colaboratory.intrinsic+json": {
              "type": "string"
            },
            "text/plain": [
              "'2.5.0'"
            ]
          },
          "metadata": {
            "tags": []
          },
          "execution_count": 3
        }
      ]
    },
    {
      "cell_type": "markdown",
      "metadata": {
        "id": "BMsEwtiAacKj"
      },
      "source": [
        "# 1. Data preparation\n",
        "## 1.1 Download MNIST dataset\n"
      ]
    },
    {
      "cell_type": "code",
      "metadata": {
        "scrolled": true,
        "id": "cBjPqTKOPWgg",
        "colab": {
          "base_uri": "https://localhost:8080/"
        },
        "outputId": "6dd60bd0-514d-4a79-f0e6-17cb1b2c63f6"
      },
      "source": [
        "(train_images, train_labels), (test_images, test_labels) = tf.keras.datasets.mnist.load_data()\n",
        "train_images = np.concatenate([train_images, test_images])\n",
        "train_labels = np.concatenate([train_labels, test_labels])\n",
        "train_images = (train_images - 127.5)/127.5"
      ],
      "execution_count": null,
      "outputs": [
        {
          "output_type": "stream",
          "text": [
            "Downloading data from https://storage.googleapis.com/tensorflow/tf-keras-datasets/mnist.npz\n",
            "11493376/11490434 [==============================] - 0s 0us/step\n"
          ],
          "name": "stdout"
        }
      ]
    },
    {
      "cell_type": "markdown",
      "metadata": {
        "id": "fK0u-0xxbNJu"
      },
      "source": [
        "## 1.2 Transform to TF datasets"
      ]
    },
    {
      "cell_type": "code",
      "metadata": {
        "id": "quxBbp_6OStA",
        "colab": {
          "base_uri": "https://localhost:8080/"
        },
        "outputId": "79753d0f-b24f-4383-e70f-8710b3247565"
      },
      "source": [
        "from tensorflow.data.experimental import AUTOTUNE\n",
        "\n",
        "ds = tf.data.Dataset.from_tensor_slices((train_images, train_labels))\n",
        "ds = ds.map(lambda img, label: (tf.cast(tf.expand_dims(img,-1), dtype=tf.float32) , label) , num_parallel_calls=AUTOTUNE)\n",
        "#ds = ds.map(lambda img, label: (img, tf.random.normal(label.shape, stddev=0.2)+label) , num_parallel_calls=AUTOTUNE)\n",
        "ds = ds.shuffle(70000).batch(256).prefetch(10)\n",
        "ds"
      ],
      "execution_count": null,
      "outputs": [
        {
          "output_type": "execute_result",
          "data": {
            "text/plain": [
              "<PrefetchDataset shapes: ((None, 28, 28, 1), (None,)), types: (tf.float32, tf.uint8)>"
            ]
          },
          "metadata": {
            "tags": []
          },
          "execution_count": 5
        }
      ]
    },
    {
      "cell_type": "code",
      "metadata": {
        "run_control": {
          "marked": false
        },
        "id": "ExJ0k1ZIPWgs",
        "colab": {
          "base_uri": "https://localhost:8080/",
          "height": 485
        },
        "outputId": "aea2b149-c846-49da-fccb-66a493c1c30e"
      },
      "source": [
        "#sample of input data\n",
        "img, label = next(iter(ds))\n",
        "img = tf.squeeze(img[0])\n",
        "label = label[0]\n",
        "plt.figure(figsize=(8,8))\n",
        "plt.imshow(img, cmap='gray')\n",
        "plt.axis('off')\n",
        "plt.show()\n",
        "print(label)"
      ],
      "execution_count": null,
      "outputs": [
        {
          "output_type": "display_data",
          "data": {
            "image/png": "[encoded data removed]",
            "text/plain": [
              "<Figure size 576x576 with 1 Axes>"
            ]
          },
          "metadata": {
            "tags": [],
            "needs_background": "light"
          }
        },
        {
          "output_type": "stream",
          "text": [
            "tf.Tensor(4, shape=(), dtype=uint8)\n"
          ],
          "name": "stdout"
        }
      ]
    },
    {
      "cell_type": "markdown",
      "metadata": {
        "id": "vVqt_55InHAs"
      },
      "source": [
        "# 2. Create the network based on DCGAN\n",
        "\n",
        "\n",
        "[DCGAN paper link](https://arxiv.org/abs/1511.06434)\n",
        "\n",
        "\n",
        "## 2.1 Generator\n",
        "![alt text](https://kharshit.github.io/img/dcgan_generator.png)\n",
        "\n",
        "\n"
      ]
    },
    {
      "cell_type": "code",
      "metadata": {
        "id": "6L9I9Z5C6ewD"
      },
      "source": [
        "def make_generator_model(noise_dim=100):\n",
        "  noise = layers.Input(shape=[noise_dim], name='noise')\n",
        "  condition = layers.Input(shape=[1], name='condition')\n",
        "\n",
        "  cond_embed = layers.Embedding(10, noise_dim, input_length=1)(condition)\n",
        "  cond_embed = layers.Flatten()(cond_embed)\n",
        "  x = layers.Multiply()([noise, cond_embed])  \n",
        "  x = layers.Dense(7*7*256, activation='relu', use_bias=False)(x)\n",
        "  x = layers.BatchNormalization()(x) \n",
        "  x = layers.Reshape((7, 7, 256))(x)\n",
        "  x = layers.Conv2DTranspose(128, (5, 5), strides=(1, 1), padding='same', use_bias=False, activation='relu')(x)\n",
        "  x = layers.BatchNormalization()(x)\n",
        "  x = layers.Conv2DTranspose(64, (5, 5), strides=(2, 2), padding='same', use_bias=False, activation='relu')(x)\n",
        "  x = layers.BatchNormalization()(x)\n",
        "  x = layers.Conv2DTranspose(1, (5, 5), strides=(2, 2), padding='same', use_bias=False, activation='tanh')(x)\n",
        "  model = Model(inputs=[noise, condition], outputs=[x])\n",
        "  return model"
      ],
      "execution_count": null,
      "outputs": []
    },
    {
      "cell_type": "code",
      "metadata": {
        "id": "1uZ8_D_l6kHC",
        "colab": {
          "base_uri": "https://localhost:8080/",
          "height": 283
        },
        "outputId": "d98b7614-0c2e-4ec3-efa3-7a101eab05df"
      },
      "source": [
        "# test generator\n",
        "digit_to_generate = 3\n",
        "generator = make_generator_model()\n",
        "noise = tf.random.normal([1, 100])\n",
        "condition = tf.expand_dims(digit_to_generate, 0)\n",
        "generated_image = generator({'noise':noise, 'condition':condition}, training=False)\n",
        "plt.imshow(generated_image[0, :, :, 0], cmap='gray')"
      ],
      "execution_count": null,
      "outputs": [
        {
          "output_type": "execute_result",
          "data": {
            "text/plain": [
              "<matplotlib.image.AxesImage at 0x7f50a0063950>"
            ]
          },
          "metadata": {
            "tags": []
          },
          "execution_count": 8
        },
        {
          "output_type": "display_data",
          "data": {
            "image/png": "[encoded data removed]",
            "text/plain": [
              "<Figure size 432x288 with 1 Axes>"
            ]
          },
          "metadata": {
            "tags": [],
            "needs_background": "light"
          }
        }
      ]
    },
    {
      "cell_type": "markdown",
      "metadata": {
        "id": "1xc8v0YUha9W"
      },
      "source": [
        "## 2.2 Discriminator\n",
        "![alt text](https://kharshit.github.io/img/dcgan_discriminator.png)\n",
        "\n"
      ]
    },
    {
      "cell_type": "code",
      "metadata": {
        "id": "9E_sc0uqhXMV"
      },
      "source": [
        "def make_discriminator_model():\n",
        "  images = layers.Input(shape=[28,28,1], name='images')\n",
        "  labels = layers.Input(shape=[1], name='labels')\n",
        "  labels_embed = layers.Embedding(10, 28*28, input_length=1)(labels)\n",
        "  labels_embed = layers.Reshape([28,28,1])(labels_embed)\n",
        "\n",
        "  x = layers.Concatenate(axis=-1)([images, labels_embed])\n",
        "  x = layers.Conv2D(64, (5, 5), strides=(2, 2), padding='same', activation=layers.LeakyReLU())(x)\n",
        "  x = layers.BatchNormalization()(x)\n",
        "  x = layers.Conv2D(128, (5, 5), strides=(2, 2), padding='same', activation=layers.LeakyReLU())(x)\n",
        "  x = layers.BatchNormalization()(x)\n",
        "  logits = layers.Flatten()(x)\n",
        "\n",
        "  #c = layers.Dense(50, 'relu')(labels)\n",
        "  logits = layers.Concatenate()([logits, labels])\n",
        "  output = layers.Dense(1, activation='sigmoid')(logits)\n",
        "  model = Model(inputs=[images, labels], outputs=[output])\n",
        "  return model"
      ],
      "execution_count": null,
      "outputs": []
    },
    {
      "cell_type": "code",
      "metadata": {
        "id": "5lvfWDx37OOW",
        "colab": {
          "base_uri": "https://localhost:8080/"
        },
        "outputId": "cf66fdc0-9caf-4854-f0e6-c8b3b5be256c"
      },
      "source": [
        "#test discriminator\n",
        "discriminator = make_discriminator_model()\n",
        "decision = discriminator({'images':generated_image, 'labels':condition})\n",
        "print (decision)"
      ],
      "execution_count": null,
      "outputs": [
        {
          "output_type": "stream",
          "text": [
            "tf.Tensor([[0.49298656]], shape=(1, 1), dtype=float32)\n"
          ],
          "name": "stdout"
        }
      ]
    },
    {
      "cell_type": "markdown",
      "metadata": {
        "id": "MOQcM7XpiA0d"
      },
      "source": [
        "## 2.3 Create GAN Model + Training ops"
      ]
    },
    {
      "cell_type": "code",
      "metadata": {
        "id": "0e-qHzKZPi-X"
      },
      "source": [
        "class GAN(Model):\n",
        "  def __init__(self, generator, discriminator, latent_dim):\n",
        "    super(GAN, self).__init__()\n",
        "    self.generator = generator\n",
        "    self.discriminator = discriminator\n",
        "    self.latent_dim = latent_dim\n",
        "    self.acc = tf.keras.metrics.BinaryAccuracy()\n",
        "\n",
        "  def compile(self, g_optimizer, d_optimizer, loss_fn):\n",
        "    super(GAN, self).compile()\n",
        "    self.g_optimizer = g_optimizer\n",
        "    self.d_optimizer = d_optimizer\n",
        "    self.loss_fn = loss_fn\n",
        "\n",
        "  def discriminator_loss(self, real_output, fake_output):\n",
        "    real_loss = self.loss_fn(tf.ones_like(real_output), real_output)\n",
        "    fake_loss = self.loss_fn(tf.zeros_like(fake_output), fake_output)\n",
        "    total_loss = (real_loss + fake_loss)/2\n",
        "    return total_loss\n",
        "\n",
        "  def generator_loss(self, fake_output):\n",
        "    return self.loss_fn(tf.ones_like(fake_output), fake_output)\n",
        "\n",
        "  def train_step(self, examples):\n",
        "    images, labels = examples\n",
        "    batch_size = tf.shape(images)[0]\n",
        "    noise = tf.random.normal([batch_size, self.latent_dim], dtype=tf.float32)\n",
        "    with tf.GradientTape() as gen_tape, tf.GradientTape() as disc_tape:\n",
        "      fake_images = self.generator({'noise':noise, 'condition':labels}, training=True)\n",
        "      real_output = self.discriminator({'images':images, 'labels':labels}, training=True)\n",
        "      fake_output = self.discriminator({'images':fake_images, 'labels':labels}, training=True)\n",
        "      gen_loss = self.generator_loss(fake_output)\n",
        "      disc_loss = self.discriminator_loss(real_output, fake_output)\n",
        "\n",
        "    gradients_of_generator = gen_tape.gradient(gen_loss, self.generator.trainable_variables)\n",
        "    gradients_of_discriminator = disc_tape.gradient(disc_loss, self.discriminator.trainable_variables)\n",
        "\n",
        "    self.g_optimizer.apply_gradients(zip(gradients_of_generator, self.generator.trainable_variables))\n",
        "    self.d_optimizer.apply_gradients(zip(gradients_of_discriminator, self.discriminator.trainable_variables))\n",
        "    predictions = tf.concat([real_output, fake_output], axis=0)\n",
        "    fake_real_labels = tf.concat([tf.ones_like(real_output), tf.zeros_like(fake_output)], axis=0)\n",
        "    return {'g_loss':gen_loss, 'd_loss':disc_loss, 'acc':self.acc(fake_real_labels, predictions)}"
      ],
      "execution_count": null,
      "outputs": []
    },
    {
      "cell_type": "markdown",
      "metadata": {
        "id": "mNvVstZVj3n5"
      },
      "source": [
        "## 2.4. Prepare model"
      ]
    },
    {
      "cell_type": "code",
      "metadata": {
        "id": "wZX53oJUnoN8"
      },
      "source": [
        "#initialize the model\n",
        "gan = GAN(generator=generator, discriminator=discriminator, latent_dim=100)\n",
        "\n",
        "gan.compile(g_optimizer=tf.keras.optimizers.Adam(1e-4), \n",
        "            d_optimizer=tf.keras.optimizers.Adam(1e-4), \n",
        "            loss_fn=tf.losses.BinaryCrossentropy(label_smoothing=0.05))\n",
        "            #loss_fn=tf.losses.CategoricalCrossentropy())"
      ],
      "execution_count": null,
      "outputs": []
    },
    {
      "cell_type": "code",
      "metadata": {
        "id": "ccWH3Fjltifh",
        "colab": {
          "base_uri": "https://localhost:8080/"
        },
        "outputId": "d9dbeff4-8888-4f7a-85c0-b313df59e4f2"
      },
      "source": [
        "#location to save logs\n",
        "logdir = 'logs/'\n",
        "!rm -r $logdir"
      ],
      "execution_count": null,
      "outputs": [
        {
          "output_type": "stream",
          "text": [
            "rm: cannot remove 'logs/': No such file or directory\n"
          ],
          "name": "stdout"
        }
      ]
    },
    {
      "cell_type": "code",
      "metadata": {
        "id": "N3l9alBsdWXH"
      },
      "source": [
        "#write generated images on tensorboard\n",
        "file_writer = tf.summary.create_file_writer(logdir)\n",
        "def img_writer(epoch, logs,  imgs_to_show=8):\n",
        "  random_label = tf.random.uniform([imgs_to_show], maxval=10, dtype=tf.int32)\n",
        "  imgs = generator({'noise':tf.random.normal([imgs_to_show,100]), \n",
        "                    'condition':random_label})\n",
        "  with file_writer.as_default():\n",
        "    tf.summary.image(\"Generated data\", imgs, step=epoch, max_outputs=imgs_to_show)\n",
        "\n",
        "    \n",
        "img_callback = tf.keras.callbacks.LambdaCallback(on_epoch_end=lambda epoch,logs: img_writer(epoch,logs))\n",
        "\n",
        "tensorboard_callback = tf.keras.callbacks.TensorBoard(logdir)"
      ],
      "execution_count": null,
      "outputs": []
    },
    {
      "cell_type": "code",
      "metadata": {
        "id": "ytoE4SnSws_C"
      },
      "source": [
        "from google.colab import drive\n",
        "drive.mount('/content/drive')"
      ],
      "execution_count": null,
      "outputs": []
    },
    {
      "cell_type": "code",
      "metadata": {
        "id": "Q23pCAwfv9QX"
      },
      "source": [
        "#Load the tensorboard\n",
        "%load_ext tensorboard"
      ],
      "execution_count": null,
      "outputs": []
    },
    {
      "cell_type": "code",
      "metadata": {
        "id": "kbC87Oinmive"
      },
      "source": [
        "%tensorboard --logdir $logdir\n",
        "\n",
        "############################################\n",
        "###Check the Images tab in tensorboard!!!###\n",
        "############################################"
      ],
      "execution_count": null,
      "outputs": []
    },
    {
      "cell_type": "markdown",
      "metadata": {
        "id": "uxHJavblmBht"
      },
      "source": [
        "# 3. Train the model"
      ]
    },
    {
      "cell_type": "code",
      "metadata": {
        "id": "-p1U0oiKpAS7"
      },
      "source": [
        "gan.fit(ds, epochs=200, callbacks=[img_callback, tensorboard_callback])"
      ],
      "execution_count": null,
      "outputs": []
    },
    {
      "cell_type": "markdown",
      "metadata": {
        "id": "Haf1g7Axm6CV"
      },
      "source": [
        "# 4. Check the results"
      ]
    },
    {
      "cell_type": "code",
      "metadata": {
        "id": "wYEKCmB-SXzw"
      },
      "source": [
        "imgs_per_row = 10\n",
        "#conditions = tf.reshape(tf.tile(tf.expand_dims(tf.range(0, 10), -1), [1,imgs_per_row]),-1)\n",
        "conditions = tf.reshape(tf.tile(tf.expand_dims(tf.range(0, 10), -1), [1,imgs_per_row]),-1)\n",
        "noise = tf.random.normal([tf.math.reduce_prod(conditions.shape), 100])\n",
        "generated_images = generator({'noise':noise, 'condition':conditions}, training=False)\n",
        "fig = plt.figure(figsize=(10,10))\n",
        "\n",
        "for i in range(generated_images.shape[0]):\n",
        "    plt.subplot(10, imgs_per_row, i+1)\n",
        "    plt.imshow(generated_images[i, :, :, 0] , cmap='gray')\n",
        "    plt.axis('off')\n",
        "\n",
        "plt.show()"
      ],
      "execution_count": null,
      "outputs": []
    },
    {
      "cell_type": "code",
      "metadata": {
        "id": "lDGsC19p-2Ng"
      },
      "source": [
        "import ipywidgets as widgets\n",
        "import matplotlib.pyplot as plt\n",
        "import numpy as np\n",
        "\n",
        "def generate(condition, n_gen_imgs=5):\n",
        "  condition = tf.tile(tf.expand_dims([condition], axis=0), [n_gen_imgs,1])\n",
        "  noise = tf.random.normal([n_gen_imgs, 100])\n",
        "  generated_images = generator({'noise':noise, 'condition':condition}, training=False)\n",
        "\n",
        "  for i in range(n_gen_imgs):\n",
        "    plt.subplot(1, n_gen_imgs, i+1)\n",
        "    plt.imshow(generated_images[i, :, :, 0] , cmap='gray')\n",
        "    plt.axis('off')\n",
        "   \n",
        "widgets.interact(generate, condition=(0, 9, 1), n_gen_imgs=(1, 10, 1));\n"
      ],
      "execution_count": null,
      "outputs": []
    },
    {
      "cell_type": "code",
      "metadata": {
        "id": "P2d4tJicxuMR"
      },
      "source": [
        "import shutil\n",
        "shutil.make_archive('zzz', 'zip', logdir)"
      ],
      "execution_count": null,
      "outputs": []
    }
  ]
}